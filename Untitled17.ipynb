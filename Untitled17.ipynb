{
 "cells": [
  {
   "cell_type": "code",
   "execution_count": 1,
   "id": "honey-marks",
   "metadata": {},
   "outputs": [
    {
     "name": "stdout",
     "output_type": "stream",
     "text": [
      "My name is Rahul\n"
     ]
    }
   ],
   "source": [
    "spam =\"My name is Rahul\"\n",
    "\n",
    "print(spam)"
   ]
  },
  {
   "cell_type": "code",
   "execution_count": 10,
   "id": "innocent-freeware",
   "metadata": {},
   "outputs": [
    {
     "name": "stdout",
     "output_type": "stream",
     "text": [
      "My name i\\s mother\n"
     ]
    }
   ],
   "source": [
    "spam = \"My name i\\\\s mother\"\n",
    "\n",
    "print(spam)"
   ]
  },
  {
   "cell_type": "markdown",
   "id": "auburn-pioneer",
   "metadata": {},
   "source": [
    "#### Raw strings completely ignores all escape characters and prints any backlash that appears in the stirng"
   ]
  },
  {
   "cell_type": "code",
   "execution_count": 11,
   "id": "martial-native",
   "metadata": {},
   "outputs": [
    {
     "name": "stdout",
     "output_type": "stream",
     "text": [
      "That is Carol\\'s cat.\n"
     ]
    }
   ],
   "source": [
    "print(r'That is Carol\\'s cat.')"
   ]
  },
  {
   "cell_type": "markdown",
   "id": "improved-color",
   "metadata": {},
   "source": [
    "#### Use  r before the beginning quotation mark of a string to make it a raw string."
   ]
  },
  {
   "cell_type": "code",
   "execution_count": 14,
   "id": "violent-psychology",
   "metadata": {},
   "outputs": [
    {
     "name": "stdout",
     "output_type": "stream",
     "text": [
      "^C\n"
     ]
    }
   ],
   "source": [
    "!python"
   ]
  },
  {
   "cell_type": "code",
   "execution_count": 15,
   "id": "smart-rouge",
   "metadata": {},
   "outputs": [
    {
     "data": {
      "text/plain": [
       "True"
      ]
     },
     "execution_count": 15,
     "metadata": {},
     "output_type": "execute_result"
    }
   ],
   "source": [
    "'hello'.isalpha()"
   ]
  },
  {
   "cell_type": "code",
   "execution_count": 16,
   "id": "surprising-contents",
   "metadata": {},
   "outputs": [
    {
     "data": {
      "text/plain": [
       "False"
      ]
     },
     "execution_count": 16,
     "metadata": {},
     "output_type": "execute_result"
    }
   ],
   "source": [
    "'hello123'.isalpha()\n"
   ]
  },
  {
   "cell_type": "code",
   "execution_count": 18,
   "id": "lesbian-married",
   "metadata": {},
   "outputs": [
    {
     "data": {
      "text/plain": [
       "True"
      ]
     },
     "execution_count": 18,
     "metadata": {},
     "output_type": "execute_result"
    }
   ],
   "source": [
    "'hello'.isalnum()"
   ]
  },
  {
   "cell_type": "code",
   "execution_count": 21,
   "id": "civil-trailer",
   "metadata": {},
   "outputs": [
    {
     "name": "stdout",
     "output_type": "stream",
     "text": [
      "Enter your age:\n",
      "three\n",
      "Please enter a number for your age.\n",
      "Enter your age:\n",
      "2\n",
      "Select a new password(letters and numbers only):\n",
      "4\n"
     ]
    }
   ],
   "source": [
    "while True:\n",
    "    print('Enter your age:')\n",
    "    age = input()\n",
    "    if age.isdecimal():\n",
    "        break\n",
    "    print('Please enter a number for your age.')\n",
    "    \n",
    "while True:\n",
    "    print('Select a new password(letters and numbers only):')\n",
    "    password = input()\n",
    "    if password.isalnum():\n",
    "        break\n",
    "    print('Passwords can only have letters and numbers.')    "
   ]
  },
  {
   "cell_type": "code",
   "execution_count": 22,
   "id": "cordless-rebel",
   "metadata": {},
   "outputs": [
    {
     "data": {
      "text/plain": [
       "True"
      ]
     },
     "execution_count": 22,
     "metadata": {},
     "output_type": "execute_result"
    }
   ],
   "source": [
    "'Hello world!'.startswith('Hello')"
   ]
  },
  {
   "cell_type": "code",
   "execution_count": 23,
   "id": "comfortable-launch",
   "metadata": {},
   "outputs": [
    {
     "data": {
      "text/plain": [
       "True"
      ]
     },
     "execution_count": 23,
     "metadata": {},
     "output_type": "execute_result"
    }
   ],
   "source": [
    "'Hello world!'.endswith('world!')\n"
   ]
  },
  {
   "cell_type": "code",
   "execution_count": 24,
   "id": "broken-plenty",
   "metadata": {},
   "outputs": [
    {
     "data": {
      "text/plain": [
       "False"
      ]
     },
     "execution_count": 24,
     "metadata": {},
     "output_type": "execute_result"
    }
   ],
   "source": [
    "'abc123'.startswith('abcdef')"
   ]
  },
  {
   "cell_type": "code",
   "execution_count": 25,
   "id": "anticipated-merit",
   "metadata": {},
   "outputs": [
    {
     "data": {
      "text/plain": [
       "'cats, rats, bats'"
      ]
     },
     "execution_count": 25,
     "metadata": {},
     "output_type": "execute_result"
    }
   ],
   "source": [
    "', '.join(['cats','rats','bats'])"
   ]
  },
  {
   "cell_type": "code",
   "execution_count": 27,
   "id": "adolescent-ethernet",
   "metadata": {},
   "outputs": [
    {
     "data": {
      "text/plain": [
       "'My name is Simon'"
      ]
     },
     "execution_count": 27,
     "metadata": {},
     "output_type": "execute_result"
    }
   ],
   "source": [
    "' '.join(['My','name','is','Simon'])"
   ]
  },
  {
   "cell_type": "code",
   "execution_count": 28,
   "id": "passive-nothing",
   "metadata": {},
   "outputs": [
    {
     "data": {
      "text/plain": [
       "'MyABCnameABCisABCSimon'"
      ]
     },
     "execution_count": 28,
     "metadata": {},
     "output_type": "execute_result"
    }
   ],
   "source": [
    "'ABC'.join(['My','name','is','Simon'])"
   ]
  },
  {
   "cell_type": "code",
   "execution_count": 29,
   "id": "unable-plasma",
   "metadata": {},
   "outputs": [
    {
     "data": {
      "text/plain": [
       "['My', 'name', 'is', 'Madhav']"
      ]
     },
     "execution_count": 29,
     "metadata": {},
     "output_type": "execute_result"
    }
   ],
   "source": [
    "\"My name is Madhav\".split()"
   ]
  },
  {
   "cell_type": "code",
   "execution_count": 30,
   "id": "abandoned-bruce",
   "metadata": {},
   "outputs": [
    {
     "data": {
      "text/plain": [
       "['My', 'name', 'is', 'Simon']"
      ]
     },
     "execution_count": 30,
     "metadata": {},
     "output_type": "execute_result"
    }
   ],
   "source": [
    "'MyABCnameABCisABCSimon'.split('ABC')"
   ]
  },
  {
   "cell_type": "code",
   "execution_count": 31,
   "id": "atlantic-bahrain",
   "metadata": {},
   "outputs": [
    {
     "data": {
      "text/plain": [
       "['My na', 'e is Si', 'on']"
      ]
     },
     "execution_count": 31,
     "metadata": {},
     "output_type": "execute_result"
    }
   ],
   "source": [
    "'My name is Simon'.split('m')"
   ]
  },
  {
   "cell_type": "code",
   "execution_count": 32,
   "id": "headed-cleaning",
   "metadata": {},
   "outputs": [
    {
     "data": {
      "text/plain": [
       "'=======Hello========'"
      ]
     },
     "execution_count": 32,
     "metadata": {},
     "output_type": "execute_result"
    }
   ],
   "source": [
    "'Hello'.center(20, '=')"
   ]
  },
  {
   "cell_type": "code",
   "execution_count": 33,
   "id": "silent-notice",
   "metadata": {},
   "outputs": [
    {
     "data": {
      "text/plain": [
       "'***************Hello'"
      ]
     },
     "execution_count": 33,
     "metadata": {},
     "output_type": "execute_result"
    }
   ],
   "source": [
    "'Hello'.rjust(20, '*')"
   ]
  },
  {
   "cell_type": "code",
   "execution_count": 34,
   "id": "constant-perspective",
   "metadata": {},
   "outputs": [
    {
     "data": {
      "text/plain": [
       "'Hello---------------'"
      ]
     },
     "execution_count": 34,
     "metadata": {},
     "output_type": "execute_result"
    }
   ],
   "source": [
    "'Hello'.ljust(20, '-')"
   ]
  },
  {
   "cell_type": "markdown",
   "id": "shaped-antarctica",
   "metadata": {},
   "source": [
    "### Password Locker"
   ]
  },
  {
   "cell_type": "code",
   "execution_count": 35,
   "id": "joint-recruitment",
   "metadata": {},
   "outputs": [],
   "source": [
    "#! python3"
   ]
  },
  {
   "cell_type": "code",
   "execution_count": 36,
   "id": "straight-blair",
   "metadata": {},
   "outputs": [],
   "source": [
    "PASSWORDS = {'email':'F7min1BDDuvMJuxESSKHFhTxFtjVB6',\n",
    "             'blog':'VmALvQyKAxiVH5G8vo1if1MLZF3sdt',\n",
    "             'luggage':'12345'}"
   ]
  },
  {
   "cell_type": "code",
   "execution_count": null,
   "id": "nutritional-mexican",
   "metadata": {},
   "outputs": [],
   "source": [
    "import sys\n",
    "if len(sys.argv) < 2:\n",
    "    print"
   ]
  },
  {
   "cell_type": "code",
   "execution_count": 38,
   "id": "brutal-tomorrow",
   "metadata": {},
   "outputs": [
    {
     "name": "stdout",
     "output_type": "stream",
     "text": [
      "Collecting pyperclip\n",
      "  Downloading pyperclip-1.8.2.tar.gz (20 kB)\n",
      "Building wheels for collected packages: pyperclip\n",
      "  Building wheel for pyperclip (setup.py): started\n",
      "  Building wheel for pyperclip (setup.py): finished with status 'done'\n",
      "  Created wheel for pyperclip: filename=pyperclip-1.8.2-py3-none-any.whl size=11112 sha256=6b5309b4e4aac027744e1491b9089a52b101870f7ff5c5fab2ae7df86ff1ef6f\n",
      "  Stored in directory: c:\\users\\asus\\appdata\\local\\pip\\cache\\wheels\\9f\\18\\84\\8f69f8b08169c7bae2dde6bd7daf0c19fca8c8e500ee620a28\n",
      "Successfully built pyperclip\n",
      "Installing collected packages: pyperclip\n",
      "Successfully installed pyperclip-1.8.2\n"
     ]
    }
   ],
   "source": [
    "!pip install pyperclip"
   ]
  },
  {
   "cell_type": "code",
   "execution_count": 41,
   "id": "fiscal-framework",
   "metadata": {},
   "outputs": [],
   "source": [
    "import pyperclip\n",
    "text = pyperclip.paste()\n",
    "# Separate lines and add stars.\n",
    "lines = text.split('\\n')\n",
    "for i in range(len(lines)): # loop through all indexes in the \"lines\" list\n",
    " lines[i] = '* ' + lines[i] # add star to each string in \"lines\" list\n",
    "pyperclip.copy(text)"
   ]
  },
  {
   "cell_type": "code",
   "execution_count": 55,
   "id": "charged-italian",
   "metadata": {},
   "outputs": [],
   "source": [
    "pyperclip='My name is Madhav Hello world'"
   ]
  },
  {
   "cell_type": "code",
   "execution_count": 56,
   "id": "danish-blair",
   "metadata": {},
   "outputs": [
    {
     "name": "stdout",
     "output_type": "stream",
     "text": [
      "* * text = '\\n'.join(lines)\n",
      "[\"* * * text = '\\\\n'.join(lines)\"]\n"
     ]
    }
   ],
   "source": [
    "import pyperclip\n",
    "text = pyperclip.paste()\n",
    "print(text)\n",
    "# Separate lines and add stars.\n",
    "lines = text.split('\\n')\n",
    "for i in range(len(lines)): # loop through all indexes in the \"lines\" list\n",
    " lines[i] = '* ' + lines[i] # add star to each string in \"lines\" list\n",
    "print(lines)\n",
    "text = '\\n'.join(lines)\n",
    "pyperclip.copy(text)"
   ]
  },
  {
   "cell_type": "code",
   "execution_count": 57,
   "id": "figured-blake",
   "metadata": {},
   "outputs": [
    {
     "name": "stdout",
     "output_type": "stream",
     "text": [
      "[\"* * * text = '\\\\n'.join(lines)\"]\n"
     ]
    }
   ],
   "source": [
    "print(lines)"
   ]
  },
  {
   "cell_type": "markdown",
   "id": "revised-actress",
   "metadata": {},
   "source": [
    "###  Split "
   ]
  },
  {
   "cell_type": "code",
   "execution_count": 58,
   "id": "noted-divide",
   "metadata": {},
   "outputs": [
    {
     "data": {
      "text/plain": [
       "['My', 'name', 'is', 'Simon']"
      ]
     },
     "execution_count": 58,
     "metadata": {},
     "output_type": "execute_result"
    }
   ],
   "source": [
    " 'My name is Simon'.split()"
   ]
  },
  {
   "cell_type": "code",
   "execution_count": 59,
   "id": "humanitarian-bible",
   "metadata": {},
   "outputs": [
    {
     "data": {
      "text/plain": [
       "['My', 'name', 'is', 'Simon']"
      ]
     },
     "execution_count": 59,
     "metadata": {},
     "output_type": "execute_result"
    }
   ],
   "source": [
    "'MyABCnameABCisABCSimon'.split('ABC')"
   ]
  },
  {
   "cell_type": "code",
   "execution_count": 60,
   "id": "central-polish",
   "metadata": {},
   "outputs": [
    {
     "data": {
      "text/plain": [
       "['My na', 'e is Si', 'on']"
      ]
     },
     "execution_count": 60,
     "metadata": {},
     "output_type": "execute_result"
    }
   ],
   "source": [
    "'My name is Simon'.split('m')"
   ]
  },
  {
   "cell_type": "code",
   "execution_count": 61,
   "id": "complicated-dairy",
   "metadata": {},
   "outputs": [
    {
     "data": {
      "text/plain": [
       "['Dear Alice,',\n",
       " 'How have you been? I am fine.',\n",
       " 'There is a container in the fridge',\n",
       " 'that is labeled \"Milk Experiment\".',\n",
       " 'Please do not drink it.',\n",
       " 'Sincerely,',\n",
       " 'Bob']"
      ]
     },
     "execution_count": 61,
     "metadata": {},
     "output_type": "execute_result"
    }
   ],
   "source": [
    " spam = '''Dear Alice,\n",
    "How have you been? I am fine.\n",
    "There is a container in the fridge\n",
    "that is labeled \"Milk Experiment\".\n",
    "Please do not drink it.\n",
    "Sincerely,\n",
    "Bob'''\n",
    "spam.split('\\n')"
   ]
  },
  {
   "cell_type": "markdown",
   "id": "educated-pioneer",
   "metadata": {},
   "source": [
    "### Regular Expressions     "
   ]
  },
  {
   "cell_type": "code",
   "execution_count": 64,
   "id": "registered-electron",
   "metadata": {},
   "outputs": [],
   "source": [
    "import re"
   ]
  },
  {
   "cell_type": "code",
   "execution_count": 65,
   "id": "dying-season",
   "metadata": {},
   "outputs": [],
   "source": [
    "phoneNumRegex = re.compile(r'\\d\\d\\d-\\d\\d\\d-\\d\\d\\d\\d')"
   ]
  },
  {
   "cell_type": "code",
   "execution_count": 66,
   "id": "comparative-rebound",
   "metadata": {},
   "outputs": [],
   "source": [
    "mo = phoneNumRegex.search('My number is 415-555-4242.')"
   ]
  },
  {
   "cell_type": "code",
   "execution_count": 68,
   "id": "electoral-immunology",
   "metadata": {},
   "outputs": [
    {
     "name": "stdout",
     "output_type": "stream",
     "text": [
      "Phone number found: 415-555-4242\n"
     ]
    }
   ],
   "source": [
    "print('Phone number found: ' + mo.group())"
   ]
  },
  {
   "cell_type": "code",
   "execution_count": 69,
   "id": "aggressive-charleston",
   "metadata": {},
   "outputs": [],
   "source": [
    "phoneNumRegex = re.compile(r'(\\d\\d\\d)-(\\d\\d\\d-\\d\\d\\d\\d)')"
   ]
  },
  {
   "cell_type": "code",
   "execution_count": 70,
   "id": "indian-heath",
   "metadata": {},
   "outputs": [],
   "source": [
    "mo = phoneNumRegex.search('My number is 425-555-4242.')"
   ]
  },
  {
   "cell_type": "code",
   "execution_count": 71,
   "id": "multiple-miami",
   "metadata": {},
   "outputs": [
    {
     "data": {
      "text/plain": [
       "'425'"
      ]
     },
     "execution_count": 71,
     "metadata": {},
     "output_type": "execute_result"
    }
   ],
   "source": [
    "mo.group(1)"
   ]
  },
  {
   "cell_type": "code",
   "execution_count": 73,
   "id": "prescription-maria",
   "metadata": {},
   "outputs": [
    {
     "data": {
      "text/plain": [
       "'555-4242'"
      ]
     },
     "execution_count": 73,
     "metadata": {},
     "output_type": "execute_result"
    }
   ],
   "source": [
    "mo.group(2)"
   ]
  },
  {
   "cell_type": "code",
   "execution_count": 74,
   "id": "straight-hormone",
   "metadata": {},
   "outputs": [
    {
     "data": {
      "text/plain": [
       "'425-555-4242'"
      ]
     },
     "execution_count": 74,
     "metadata": {},
     "output_type": "execute_result"
    }
   ],
   "source": [
    "mo.group(0)"
   ]
  },
  {
   "cell_type": "code",
   "execution_count": 75,
   "id": "collect-reducing",
   "metadata": {},
   "outputs": [
    {
     "data": {
      "text/plain": [
       "'425-555-4242'"
      ]
     },
     "execution_count": 75,
     "metadata": {},
     "output_type": "execute_result"
    }
   ],
   "source": [
    "mo.group()"
   ]
  },
  {
   "cell_type": "code",
   "execution_count": 76,
   "id": "binding-release",
   "metadata": {},
   "outputs": [
    {
     "data": {
      "text/plain": [
       "('425', '555-4242')"
      ]
     },
     "execution_count": 76,
     "metadata": {},
     "output_type": "execute_result"
    }
   ],
   "source": [
    "mo.groups()"
   ]
  },
  {
   "cell_type": "code",
   "execution_count": 79,
   "id": "disciplinary-polish",
   "metadata": {},
   "outputs": [
    {
     "name": "stdout",
     "output_type": "stream",
     "text": [
      "425\n"
     ]
    }
   ],
   "source": [
    "areaCode, mainNumber = mo.groups()\n",
    "\n",
    "print(areaCode)\n",
    "\n"
   ]
  },
  {
   "cell_type": "code",
   "execution_count": 80,
   "id": "happy-refrigerator",
   "metadata": {},
   "outputs": [
    {
     "data": {
      "text/plain": [
       "['12 drummers',\n",
       " '11 pipers',\n",
       " '10 lords',\n",
       " '9 ladies',\n",
       " '8 maids',\n",
       " '7 swans',\n",
       " '6 geese',\n",
       " '5 rings',\n",
       " '3 hens',\n",
       " '2 doves',\n",
       " '1 partridge']"
      ]
     },
     "execution_count": 80,
     "metadata": {},
     "output_type": "execute_result"
    }
   ],
   "source": [
    "xmasRegex = re.compile(r'\\d+\\s\\w+')\n",
    "xmasRegex.findall('12 drummers, 11 pipers, 10 lords, 9 ladies, 8 maids, 7 swans, 6 geese, 5 rings, 3 hens, 2 doves, 1 partridge')"
   ]
  },
  {
   "cell_type": "code",
   "execution_count": 84,
   "id": "collaborative-theorem",
   "metadata": {},
   "outputs": [],
   "source": [
    "vowelRegex = re.compile(r'[aeiouAEIOU]')"
   ]
  },
  {
   "cell_type": "code",
   "execution_count": 85,
   "id": "historic-individual",
   "metadata": {},
   "outputs": [
    {
     "data": {
      "text/plain": [
       "['o', 'o', 'o', 'e', 'a', 'a', 'o', 'o', 'A', 'O', 'O']"
      ]
     },
     "execution_count": 85,
     "metadata": {},
     "output_type": "execute_result"
    }
   ],
   "source": [
    "vowelRegex.findall('RoboCop eats baby food. BABY FOOD.')"
   ]
  },
  {
   "cell_type": "code",
   "execution_count": 86,
   "id": "driven-surgeon",
   "metadata": {},
   "outputs": [
    {
     "data": {
      "text/plain": [
       "['R',\n",
       " 'b',\n",
       " 'C',\n",
       " 'p',\n",
       " ' ',\n",
       " 't',\n",
       " 's',\n",
       " ' ',\n",
       " 'b',\n",
       " 'b',\n",
       " 'y',\n",
       " ' ',\n",
       " 'f',\n",
       " 'd',\n",
       " '.',\n",
       " ' ',\n",
       " 'B',\n",
       " 'B',\n",
       " 'Y',\n",
       " ' ',\n",
       " 'F',\n",
       " 'D']"
      ]
     },
     "execution_count": 86,
     "metadata": {},
     "output_type": "execute_result"
    }
   ],
   "source": [
    "consonantRegex = re.compile(r'[^aeiouAEIOU]')\n",
    "consonantRegex.findall('RoboCop eats baby food. BABY FOOD')"
   ]
  },
  {
   "cell_type": "markdown",
   "id": "latest-wagner",
   "metadata": {},
   "source": [
    "### >> You can also use the caret symbol (^) at the start of a regex to indicate that a match must occur at the beginning of the searched text\n",
    "\n",
    "### >>Likewise, you can put a dollar sign ($) at the end of the regex to indicate the string must end with this regex pattern"
   ]
  },
  {
   "cell_type": "code",
   "execution_count": 87,
   "id": "settled-exhibition",
   "metadata": {},
   "outputs": [
    {
     "data": {
      "text/plain": [
       "<re.Match object; span=(0, 5), match='Hello'>"
      ]
     },
     "execution_count": 87,
     "metadata": {},
     "output_type": "execute_result"
    }
   ],
   "source": [
    "beginsWithHello = re.compile(r'^Hello')\n",
    "beginsWithHello.search('Hello world!')\n"
   ]
  },
  {
   "cell_type": "code",
   "execution_count": 88,
   "id": "adjustable-proposition",
   "metadata": {},
   "outputs": [
    {
     "data": {
      "text/plain": [
       "True"
      ]
     },
     "execution_count": 88,
     "metadata": {},
     "output_type": "execute_result"
    }
   ],
   "source": [
    "beginsWithHello.search('He said hello.') == None"
   ]
  },
  {
   "cell_type": "markdown",
   "id": "private-mechanism",
   "metadata": {},
   "source": [
    "####   The r'\\d$' regular expression string matches strings that end with a numeric character from 0 to 9."
   ]
  },
  {
   "cell_type": "code",
   "execution_count": 89,
   "id": "educated-boutique",
   "metadata": {},
   "outputs": [],
   "source": [
    "endsWithNumber = re.compile(r'\\d$')"
   ]
  },
  {
   "cell_type": "code",
   "execution_count": 90,
   "id": "another-third",
   "metadata": {},
   "outputs": [
    {
     "data": {
      "text/plain": [
       "<re.Match object; span=(16, 17), match='2'>"
      ]
     },
     "execution_count": 90,
     "metadata": {},
     "output_type": "execute_result"
    }
   ],
   "source": [
    "endsWithNumber.search('Your number is 42')"
   ]
  },
  {
   "cell_type": "code",
   "execution_count": 91,
   "id": "micro-switch",
   "metadata": {},
   "outputs": [
    {
     "data": {
      "text/plain": [
       "True"
      ]
     },
     "execution_count": 91,
     "metadata": {},
     "output_type": "execute_result"
    }
   ],
   "source": [
    "endsWithNumber.search('Your number is forty two.')== None"
   ]
  },
  {
   "cell_type": "markdown",
   "id": "passing-greek",
   "metadata": {},
   "source": [
    "#### The r'^\\d+$' regular expression string matches strings that both begin and end with one or more numeric characters."
   ]
  },
  {
   "cell_type": "code",
   "execution_count": 92,
   "id": "hundred-knitting",
   "metadata": {},
   "outputs": [
    {
     "data": {
      "text/plain": [
       "<re.Match object; span=(0, 10), match='1234567890'>"
      ]
     },
     "execution_count": 92,
     "metadata": {},
     "output_type": "execute_result"
    }
   ],
   "source": [
    "wholeStringIsNum = re.compile(r'^\\d+$')\n",
    "wholeStringIsNum.search('1234567890')\n"
   ]
  },
  {
   "cell_type": "code",
   "execution_count": 93,
   "id": "public-zealand",
   "metadata": {},
   "outputs": [
    {
     "data": {
      "text/plain": [
       "True"
      ]
     },
     "execution_count": 93,
     "metadata": {},
     "output_type": "execute_result"
    }
   ],
   "source": [
    "wholeStringIsNum.search('12345xyz67890')== None\n"
   ]
  },
  {
   "cell_type": "code",
   "execution_count": 94,
   "id": "institutional-conclusion",
   "metadata": {},
   "outputs": [
    {
     "data": {
      "text/plain": [
       "True"
      ]
     },
     "execution_count": 94,
     "metadata": {},
     "output_type": "execute_result"
    }
   ],
   "source": [
    "wholeStringIsNum.search('12 34567890') == None"
   ]
  },
  {
   "cell_type": "code",
   "execution_count": 95,
   "id": "rural-tonight",
   "metadata": {},
   "outputs": [
    {
     "data": {
      "text/plain": [
       "['cat', 'hat', 'sat', 'lat', 'mat']"
      ]
     },
     "execution_count": 95,
     "metadata": {},
     "output_type": "execute_result"
    }
   ],
   "source": [
    "atRegex = re.compile(r'.at')\n",
    "atRegex.findall('The cat in the hat sat on the flat mat.')"
   ]
  },
  {
   "cell_type": "code",
   "execution_count": 96,
   "id": "armed-fields",
   "metadata": {},
   "outputs": [],
   "source": [
    "nameRegex = re.compile(r'First Name: (.*) Last Name: (.*)')\n",
    "mo = nameRegex.search('First Name: Al Last Name: Sweigart')"
   ]
  },
  {
   "cell_type": "code",
   "execution_count": 98,
   "id": "technological-radical",
   "metadata": {},
   "outputs": [
    {
     "data": {
      "text/plain": [
       "'Al'"
      ]
     },
     "execution_count": 98,
     "metadata": {},
     "output_type": "execute_result"
    }
   ],
   "source": [
    "mo.group(1)"
   ]
  },
  {
   "cell_type": "code",
   "execution_count": 99,
   "id": "advanced-recognition",
   "metadata": {},
   "outputs": [
    {
     "data": {
      "text/plain": [
       "'Sweigart'"
      ]
     },
     "execution_count": 99,
     "metadata": {},
     "output_type": "execute_result"
    }
   ],
   "source": [
    "mo.group(2)"
   ]
  },
  {
   "cell_type": "code",
   "execution_count": 101,
   "id": "precious-transformation",
   "metadata": {},
   "outputs": [
    {
     "data": {
      "text/plain": [
       "'<To serve man>'"
      ]
     },
     "execution_count": 101,
     "metadata": {},
     "output_type": "execute_result"
    }
   ],
   "source": [
    "nongreedyRegex = re.compile(r'<.*?>')\n",
    "mo = nongreedyRegex.search('<To serve man> for dinner.>')\n",
    "mo.group()"
   ]
  },
  {
   "cell_type": "code",
   "execution_count": 102,
   "id": "neural-quilt",
   "metadata": {},
   "outputs": [
    {
     "data": {
      "text/plain": [
       "'<To serve man> for dinner.>'"
      ]
     },
     "execution_count": 102,
     "metadata": {},
     "output_type": "execute_result"
    }
   ],
   "source": [
    "greedyRegex = re.compile(r'<.*>')\n",
    "mo = greedyRegex.search('<To serve man> for dinner.>')\n",
    "mo.group()"
   ]
  },
  {
   "cell_type": "markdown",
   "id": "divided-editor",
   "metadata": {},
   "source": [
    "<li>(.*) uses greedy mode \n",
    "<li>(.*?) uses nongreedy mode"
   ]
  },
  {
   "cell_type": "code",
   "execution_count": 114,
   "id": "guilty-investor",
   "metadata": {},
   "outputs": [],
   "source": [
    "import pyperclip, re\n",
    "phoneRegex = re.compile(r'''(\n",
    " (\\d{3}|\\(\\d{3}\\))? # area code\n",
    " (\\s|-|\\.)? # separator\n",
    " (\\d{3}) # first 3 digits\n",
    " (\\s|-|\\.) # separator\n",
    " (\\d{4}) # last 4 digits\n",
    " (\\s*(ext|x|ext.)\\s*(\\d{2,5}))? # extension\n",
    " )''', re.VERBOSE)"
   ]
  },
  {
   "cell_type": "code",
   "execution_count": 115,
   "id": "invalid-suggestion",
   "metadata": {},
   "outputs": [],
   "source": [
    "# Create email regex.\n",
    "emailRegex = re.compile(r'''(\n",
    "u [a-zA-Z0-9._%+-]+ # username\n",
    "v @ # @ symbol\n",
    "w [a-zA-Z0-9.-]+ # domain name\n",
    " (\\.[a-zA-Z]{2,4}) # dot-something\n",
    " )''', re.VERBOSE)"
   ]
  },
  {
   "cell_type": "code",
   "execution_count": 116,
   "id": "original-cheese",
   "metadata": {},
   "outputs": [],
   "source": [
    "# Find matches in clipboard text.\n",
    "text = str(pyperclip.paste())\n",
    "\n",
    "matches = []\n",
    "for groups in phoneRegex.findall(text):\n",
    "    phoneNum = '-'.join([groups[1], groups[3], groups[5]])\n",
    "    if groups[8] != '':\n",
    "        phoneNum += ' x' + groups[8]\n",
    "    matches.append(phoneNum)\n",
    "for groups in emailRegex.findall(text):\n",
    "    matches.append(groups[0])"
   ]
  },
  {
   "cell_type": "code",
   "execution_count": 117,
   "id": "focused-season",
   "metadata": {},
   "outputs": [
    {
     "name": "stdout",
     "output_type": "stream",
     "text": [
      "Copied to clipboard:\n",
      "800-420-7240\n",
      "415-863-9900\n",
      "415-863-9950\n"
     ]
    }
   ],
   "source": [
    "# Copy results to the clipboard.\n",
    "if len(matches) > 0:\n",
    "    pyperclip.copy('\\n'.join(matches))\n",
    "    print('Copied to clipboard:')\n",
    "    print('\\n'.join(matches))\n",
    "else:\n",
    "    print('No phone numbers or email addresses found.')"
   ]
  },
  {
   "cell_type": "code",
   "execution_count": null,
   "id": "wireless-monday",
   "metadata": {},
   "outputs": [],
   "source": [
    "\n",
    "\n",
    "\n"
   ]
  }
 ],
 "metadata": {
  "kernelspec": {
   "display_name": "Python 3",
   "language": "python",
   "name": "python3"
  },
  "language_info": {
   "codemirror_mode": {
    "name": "ipython",
    "version": 3
   },
   "file_extension": ".py",
   "mimetype": "text/x-python",
   "name": "python",
   "nbconvert_exporter": "python",
   "pygments_lexer": "ipython3",
   "version": "3.7.9"
  }
 },
 "nbformat": 4,
 "nbformat_minor": 5
}
